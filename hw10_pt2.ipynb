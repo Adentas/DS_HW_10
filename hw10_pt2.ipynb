{
  "cells": [
    {
      "cell_type": "code",
      "execution_count": 3,
      "metadata": {
        "id": "7cNA4GKAou7J"
      },
      "outputs": [
        {
          "name": "stdout",
          "output_type": "stream",
          "text": [
            "WARNING:tensorflow:From c:\\Users\\Grig\\AppData\\Local\\Programs\\Python\\Python311\\Lib\\site-packages\\keras\\src\\losses.py:2976: The name tf.losses.sparse_softmax_cross_entropy is deprecated. Please use tf.compat.v1.losses.sparse_softmax_cross_entropy instead.\n",
            "\n"
          ]
        }
      ],
      "source": [
        "import numpy as np\n",
        "import tensorflow as tf\n",
        "from tensorflow import keras\n",
        "from keras.datasets import fashion_mnist\n",
        "from keras.applications import VGG16\n",
        "from tensorflow.keras.utils import to_categorical\n",
        "from keras import layers\n",
        "from tensorflow.keras.models import Model"
      ]
    },
    {
      "cell_type": "code",
      "execution_count": 4,
      "metadata": {
        "colab": {
          "base_uri": "https://localhost:8080/"
        },
        "id": "vq9Uy1WCoz4i",
        "outputId": "ffa56515-371d-43d2-fbab-1171cde3b6cb"
      },
      "outputs": [
        {
          "data": {
            "text/plain": [
              "(TensorShape([60000, 32, 32, 3]), (60000, 28, 28, 3))"
            ]
          },
          "execution_count": 4,
          "metadata": {},
          "output_type": "execute_result"
        }
      ],
      "source": [
        "(x_train, y_train), (x_test, y_test) = fashion_mnist.load_data()\n",
        "\n",
        "class_names = ['T-shirt/top', 'Trouser', 'Pullover', 'Dress', 'Coat',\n",
        "               'Sandal', 'Shirt', 'Sneaker', 'Bag', 'Ankle boot']\n",
        "\n",
        "# data normalize\n",
        "x_train = x_train.astype('float32') / 255.0\n",
        "x_test = x_test.astype('float32') / 255.0\n",
        "\n",
        "# Change the data dimension for VGG16\n",
        "x_train = np.stack([x_train]*3, axis=-1)\n",
        "x_test = np.stack([x_test]*3, axis=-1)\n",
        "\n",
        "# Convert labels to categorical format\n",
        "y_train = to_categorical(y_train, 10)\n",
        "y_test = to_categorical(y_test, 10)\n",
        "\n",
        "resized_x_train = tf.image.resize(x_train, (32,32))\n",
        "resized_x_test = tf.image.resize(x_test, (32,32))\n",
        "\n",
        "resized_x_train.shape, x_train.shape"
      ]
    },
    {
      "cell_type": "code",
      "execution_count": 7,
      "metadata": {
        "id": "mg_VlOfIpAra"
      },
      "outputs": [],
      "source": [
        "# Build VGG16 model\n",
        "def model_VGG16(learning_rate, epochs, batch_size):\n",
        "    base_model = VGG16(\n",
        "        include_top=False,\n",
        "        weights='imagenet',\n",
        "        input_shape=(32, 32, 3),\n",
        "        pooling='avg'\n",
        "    )\n",
        "\n",
        "    # Adding custom layers\n",
        "    x = base_model.output\n",
        "    x = layers.Flatten()(x)\n",
        "    x = layers.Dense(256, activation='relu')(x)\n",
        "    x = layers.Dropout(0.25)(x)\n",
        "    predictions = layers.Dense(10, activation='softmax')(x)\n",
        "\n",
        "    # Creating the final model\n",
        "    model = Model(inputs=base_model.input, outputs=predictions)\n",
        "\n",
        "    # Compilation\n",
        "    model.compile(optimizer='adam',\n",
        "                  loss='categorical_crossentropy',\n",
        "                  metrics=['accuracy'])\n",
        "\n",
        "    # Model training\n",
        "    history = model.fit(\n",
        "        resized_x_train, y_train,\n",
        "        epochs=epochs,\n",
        "        batch_size=batch_size,\n",
        "        validation_split=0.2\n",
        "    )\n",
        "\n",
        "    test_loss, test_accuracy = model.evaluate(resized_x_test, y_test)\n",
        "    print(f'Test Accuracy: {test_accuracy*100:.2f}%')\n",
        "\n",
        "    return model, history"
      ]
    },
    {
      "cell_type": "code",
      "execution_count": 8,
      "metadata": {
        "id": "UC5S0LA_pEq5"
      },
      "outputs": [],
      "source": [
        "# Hyperparametrs\n",
        "learning_rate = 0.001\n",
        "epochs = 15\n",
        "batch_size = 200"
      ]
    },
    {
      "cell_type": "code",
      "execution_count": 9,
      "metadata": {
        "colab": {
          "base_uri": "https://localhost:8080/"
        },
        "id": "2WOFaNFhpH5W",
        "outputId": "2149c6cb-cd2a-4d22-a72e-ccc3b92a7280"
      },
      "outputs": [
        {
          "name": "stdout",
          "output_type": "stream",
          "text": [
            "WARNING:tensorflow:From c:\\Users\\Grig\\AppData\\Local\\Programs\\Python\\Python311\\Lib\\site-packages\\keras\\src\\backend.py:1398: The name tf.executing_eagerly_outside_functions is deprecated. Please use tf.compat.v1.executing_eagerly_outside_functions instead.\n",
            "\n",
            "WARNING:tensorflow:From c:\\Users\\Grig\\AppData\\Local\\Programs\\Python\\Python311\\Lib\\site-packages\\keras\\src\\layers\\pooling\\max_pooling2d.py:161: The name tf.nn.max_pool is deprecated. Please use tf.nn.max_pool2d instead.\n",
            "\n",
            "WARNING:tensorflow:From c:\\Users\\Grig\\AppData\\Local\\Programs\\Python\\Python311\\Lib\\site-packages\\keras\\src\\optimizers\\__init__.py:309: The name tf.train.Optimizer is deprecated. Please use tf.compat.v1.train.Optimizer instead.\n",
            "\n",
            "Epoch 1/15\n",
            "WARNING:tensorflow:From c:\\Users\\Grig\\AppData\\Local\\Programs\\Python\\Python311\\Lib\\site-packages\\keras\\src\\utils\\tf_utils.py:492: The name tf.ragged.RaggedTensorValue is deprecated. Please use tf.compat.v1.ragged.RaggedTensorValue instead.\n",
            "\n",
            "WARNING:tensorflow:From c:\\Users\\Grig\\AppData\\Local\\Programs\\Python\\Python311\\Lib\\site-packages\\keras\\src\\engine\\base_layer_utils.py:384: The name tf.executing_eagerly_outside_functions is deprecated. Please use tf.compat.v1.executing_eagerly_outside_functions instead.\n",
            "\n",
            "240/240 [==============================] - 2125s 9s/step - loss: 1.0906 - accuracy: 0.5665 - val_loss: 0.6139 - val_accuracy: 0.7609\n",
            "Epoch 2/15\n",
            "240/240 [==============================] - 1350s 6s/step - loss: 0.4548 - accuracy: 0.8368 - val_loss: 0.3688 - val_accuracy: 0.8719\n",
            "Epoch 3/15\n",
            "240/240 [==============================] - 1494s 6s/step - loss: 0.3188 - accuracy: 0.8904 - val_loss: 0.3109 - val_accuracy: 0.8913\n",
            "Epoch 4/15\n",
            "240/240 [==============================] - 1579s 7s/step - loss: 0.2554 - accuracy: 0.9132 - val_loss: 0.2672 - val_accuracy: 0.9103\n",
            "Epoch 5/15\n",
            "240/240 [==============================] - 1562s 7s/step - loss: 0.2191 - accuracy: 0.9254 - val_loss: 0.2420 - val_accuracy: 0.9129\n",
            "Epoch 6/15\n",
            "240/240 [==============================] - 1522s 6s/step - loss: 0.1973 - accuracy: 0.9330 - val_loss: 0.2258 - val_accuracy: 0.9208\n",
            "Epoch 7/15\n",
            "240/240 [==============================] - 1495s 6s/step - loss: 0.1858 - accuracy: 0.9370 - val_loss: 0.2140 - val_accuracy: 0.9248\n",
            "Epoch 8/15\n",
            "240/240 [==============================] - 1510s 6s/step - loss: 0.1566 - accuracy: 0.9474 - val_loss: 0.2506 - val_accuracy: 0.9148\n",
            "Epoch 9/15\n",
            "240/240 [==============================] - 1505s 6s/step - loss: 0.1436 - accuracy: 0.9507 - val_loss: 0.2321 - val_accuracy: 0.9247\n",
            "Epoch 10/15\n",
            "240/240 [==============================] - 1504s 6s/step - loss: 0.1300 - accuracy: 0.9563 - val_loss: 0.2355 - val_accuracy: 0.9240\n",
            "Epoch 11/15\n",
            "240/240 [==============================] - 1518s 6s/step - loss: 0.1390 - accuracy: 0.9524 - val_loss: 0.2431 - val_accuracy: 0.9268\n",
            "Epoch 12/15\n",
            "240/240 [==============================] - 1488s 6s/step - loss: 0.1285 - accuracy: 0.9571 - val_loss: 0.2396 - val_accuracy: 0.9245\n",
            "Epoch 13/15\n",
            "240/240 [==============================] - 1357s 6s/step - loss: 0.0993 - accuracy: 0.9666 - val_loss: 0.2410 - val_accuracy: 0.9273\n",
            "Epoch 14/15\n",
            "240/240 [==============================] - 1058s 4s/step - loss: 0.0994 - accuracy: 0.9667 - val_loss: 0.2445 - val_accuracy: 0.9257\n",
            "Epoch 15/15\n",
            "240/240 [==============================] - 995s 4s/step - loss: 0.0816 - accuracy: 0.9732 - val_loss: 0.2799 - val_accuracy: 0.9242\n",
            "313/313 [==============================] - 53s 164ms/step - loss: 0.2905 - accuracy: 0.9252\n",
            "Test Accuracy: 92.52%\n"
          ]
        }
      ],
      "source": [
        "\n",
        "# Train model\n",
        "model, history_v2 = model_VGG16(learning_rate, epochs, batch_size)"
      ]
    },
    {
      "cell_type": "code",
      "execution_count": 10,
      "metadata": {
        "id": "xkVTGvJHpLNZ"
      },
      "outputs": [
        {
          "name": "stdout",
          "output_type": "stream",
          "text": [
            "Model: \"model\"\n",
            "_________________________________________________________________\n",
            " Layer (type)                Output Shape              Param #   \n",
            "=================================================================\n",
            " input_1 (InputLayer)        [(None, 32, 32, 3)]       0         \n",
            "                                                                 \n",
            " block1_conv1 (Conv2D)       (None, 32, 32, 64)        1792      \n",
            "                                                                 \n",
            " block1_conv2 (Conv2D)       (None, 32, 32, 64)        36928     \n",
            "                                                                 \n",
            " block1_pool (MaxPooling2D)  (None, 16, 16, 64)        0         \n",
            "                                                                 \n",
            " block2_conv1 (Conv2D)       (None, 16, 16, 128)       73856     \n",
            "                                                                 \n",
            " block2_conv2 (Conv2D)       (None, 16, 16, 128)       147584    \n",
            "                                                                 \n",
            " block2_pool (MaxPooling2D)  (None, 8, 8, 128)         0         \n",
            "                                                                 \n",
            " block3_conv1 (Conv2D)       (None, 8, 8, 256)         295168    \n",
            "                                                                 \n",
            " block3_conv2 (Conv2D)       (None, 8, 8, 256)         590080    \n",
            "                                                                 \n",
            " block3_conv3 (Conv2D)       (None, 8, 8, 256)         590080    \n",
            "                                                                 \n",
            " block3_pool (MaxPooling2D)  (None, 4, 4, 256)         0         \n",
            "                                                                 \n",
            " block4_conv1 (Conv2D)       (None, 4, 4, 512)         1180160   \n",
            "                                                                 \n",
            " block4_conv2 (Conv2D)       (None, 4, 4, 512)         2359808   \n",
            "                                                                 \n",
            " block4_conv3 (Conv2D)       (None, 4, 4, 512)         2359808   \n",
            "                                                                 \n",
            " block4_pool (MaxPooling2D)  (None, 2, 2, 512)         0         \n",
            "                                                                 \n",
            " block5_conv1 (Conv2D)       (None, 2, 2, 512)         2359808   \n",
            "                                                                 \n",
            " block5_conv2 (Conv2D)       (None, 2, 2, 512)         2359808   \n",
            "                                                                 \n",
            " block5_conv3 (Conv2D)       (None, 2, 2, 512)         2359808   \n",
            "                                                                 \n",
            " block5_pool (MaxPooling2D)  (None, 1, 1, 512)         0         \n",
            "                                                                 \n",
            " global_average_pooling2d (  (None, 512)               0         \n",
            " GlobalAveragePooling2D)                                         \n",
            "                                                                 \n",
            " flatten (Flatten)           (None, 512)               0         \n",
            "                                                                 \n",
            " dense (Dense)               (None, 256)               131328    \n",
            "                                                                 \n",
            " dropout (Dropout)           (None, 256)               0         \n",
            "                                                                 \n",
            " dense_1 (Dense)             (None, 10)                2570      \n",
            "                                                                 \n",
            "=================================================================\n",
            "Total params: 14848586 (56.64 MB)\n",
            "Trainable params: 14848586 (56.64 MB)\n",
            "Non-trainable params: 0 (0.00 Byte)\n",
            "_________________________________________________________________\n"
          ]
        }
      ],
      "source": [
        "# Display the model summary table to see all layers and their parameters\n",
        "model.summary()"
      ]
    },
    {
      "cell_type": "code",
      "execution_count": 11,
      "metadata": {
        "id": "T-5kljDspRPR"
      },
      "outputs": [],
      "source": [
        "import matplotlib.pyplot as plt"
      ]
    },
    {
      "cell_type": "code",
      "execution_count": 12,
      "metadata": {
        "id": "sx4xYv2ApR14"
      },
      "outputs": [
        {
          "name": "stdout",
          "output_type": "stream",
          "text": [
            "313/313 [==============================] - 53s 167ms/step\n"
          ]
        },
        {
          "data": {
            "image/png": "[encoded data removed]",
            "text/plain": [
              "<Figure size 1600x300 with 8 Axes>"
            ]
          },
          "metadata": {},
          "output_type": "display_data"
        }
      ],
      "source": [
        "predictions = model.predict(resized_x_test)\n",
        "\n",
        "def plot_image(i, predictions_array, true_label, img):\n",
        "    plt.grid(False)\n",
        "    plt.xticks([])\n",
        "    plt.yticks([])\n",
        "    plt.imshow(img, cmap=plt.cm.binary)\n",
        "\n",
        "    predicted_label = np.argmax(predictions_array)\n",
        "    true_label = np.argmax(true_label)\n",
        "    if predicted_label == true_label:\n",
        "        color = 'blue'\n",
        "    else:\n",
        "        color = 'red'\n",
        "\n",
        "    plt.xlabel(\"{} {:2.0f}% ({})\".format(class_names[predicted_label],\n",
        "                                         100*np.max(predictions_array),\n",
        "                                         class_names[true_label]),\n",
        "                                         color=color)\n",
        "num_images = 8\n",
        "num_rows = 2\n",
        "num_cols = 4\n",
        "plt.figure(figsize=(2*num_images, 3))\n",
        "for i in range(num_images):\n",
        "    plt.subplot(num_rows, num_cols, i+1)\n",
        "    plot_image(i, predictions[i], y_test[i], resized_x_test[i])\n"
      ]
    },
    {
      "cell_type": "markdown",
      "metadata": {
        "id": "bS6FyNeVpbSL"
      },
      "source": [
        "## **Висновки**\n",
        "\n",
        "VGG16 модель показала не погані результати 92.52% accuracy, трішки гірше за модель з першої частини яка показала результати 92.03%."
      ]
    }
  ],
  "metadata": {
    "colab": {
      "provenance": []
    },
    "kernelspec": {
      "display_name": "Python 3",
      "name": "python3"
    },
    "language_info": {
      "codemirror_mode": {
        "name": "ipython",
        "version": 3
      },
      "file_extension": ".py",
      "mimetype": "text/x-python",
      "name": "python",
      "nbconvert_exporter": "python",
      "pygments_lexer": "ipython3",
      "version": "3.11.7"
    }
  },
  "nbformat": 4,
  "nbformat_minor": 0
}
